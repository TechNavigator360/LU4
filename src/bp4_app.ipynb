{
 "cells": [
  {
   "cell_type": "code",
   "id": "9fdab212d057883d",
   "metadata": {
    "ExecuteTime": {
     "end_time": "2024-11-12T13:02:36.318492Z",
     "start_time": "2024-11-12T13:02:36.315204Z"
    }
   },
   "source": [
    "import tkinter as tk\n",
    "from tkinter import messagebox\n",
    "import csv\n",
    "import logging"
   ],
   "outputs": [],
   "execution_count": 45
  },
  {
   "metadata": {
    "ExecuteTime": {
     "end_time": "2024-11-12T13:02:36.332758Z",
     "start_time": "2024-11-12T13:02:36.324229Z"
    }
   },
   "cell_type": "code",
   "source": [
    "# Configure logging for clear, minimal warnings\n",
    "logging.basicConfig(level=logging.WARNING, format='%(levelname)s:%(message)s')\n",
    "\n",
    "def load_data():\n",
    "    users = {}\n",
    "    feedback_data = []\n",
    "    report_data = []\n",
    "\n",
    "    # Define the essential fields for each row type\n",
    "    required_fields = {\n",
    "        \"user\": {\"type\", \"username\", \"password\", \"role\"},\n",
    "        \"feedback\": {\"type\", \"feedback_id\", \"agent\", \"feedback_text\", \"status\"},\n",
    "        \"report\": {\"type\", \"report_id\", \"date\", \"agent\", \"feedback_applied\"}\n",
    "    }\n",
    "    \n",
    "    # Set up the path to the CSV file\n",
    "    csv_path = \"data.csv\"\n",
    "    \n",
    "    try:\n",
    "        # Open and read the CSV file\n",
    "        with open(csv_path, mode=\"r\") as file:\n",
    "            reader = csv.DictReader(file)\n",
    "            \n",
    "            # Check if the file is empty (no headers or data)\n",
    "            if reader.fieldnames is None:\n",
    "                logging.warning(\"The CSV file is empty or missing headers.\")\n",
    "                return users, feedback_data, report_data\n",
    "\n",
    "            # Process each row based on its type\n",
    "            for row in reader:\n",
    "                row_type = row.get(\"type\")\n",
    "                \n",
    "                # Check if the row type is one of the expected types\n",
    "                if row_type in required_fields:\n",
    "                    # Validate required fields based on the row type\n",
    "                    missing_fields = required_fields[row_type] - row.keys()\n",
    "                    \n",
    "                    # Skip row if required fields are missing\n",
    "                    if missing_fields:\n",
    "                        logging.warning(f\"Skipping {row_type} row with missing fields: {row}\")\n",
    "                        continue\n",
    "                    \n",
    "                    # Populate data based on row type\n",
    "                    if row_type == \"user\":\n",
    "                        users[row[\"username\"]] = {\n",
    "                            \"password\": row[\"password\"],\n",
    "                            \"role\": row[\"role\"]\n",
    "                        }\n",
    "                    elif row_type == \"feedback\":\n",
    "                        feedback_data.append({\n",
    "                            \"feedback_id\": row[\"feedback_id\"],\n",
    "                            \"agent\": row[\"agent\"],\n",
    "                            \"feedback_text\": row[\"feedback_text\"],\n",
    "                            \"status\": row[\"status\"],\n",
    "                            \"feedback_entry_date\": row.get(\"feedback_entry_date\", \"\"),\n",
    "                            \"integration_date\": row.get(\"integration_date\", \"\")\n",
    "                        })\n",
    "                    elif row_type == \"report\":\n",
    "                        report_data.append({\n",
    "                            \"report_id\": row[\"report_id\"],\n",
    "                            \"date\": row[\"date\"],\n",
    "                            \"agent\": row[\"agent\"],\n",
    "                            \"feedback_applied\": row[\"feedback_applied\"]\n",
    "                        })\n",
    "                else:\n",
    "                    logging.warning(f\"Unknown type '{row_type}' in row: {row}\")\n",
    "\n",
    "    except FileNotFoundError:\n",
    "        logging.error(f\"CSV file '{csv_path}' not found.\")\n",
    "    except IOError:\n",
    "        logging.error(f\"Error reading the file '{csv_path}'.\")\n",
    "\n",
    "    return users, feedback_data, report_data\n"
   ],
   "id": "2e66cb7e2672e203",
   "outputs": [],
   "execution_count": 46
  },
  {
   "metadata": {
    "ExecuteTime": {
     "end_time": "2024-11-12T13:02:36.343130Z",
     "start_time": "2024-11-12T13:02:36.337084Z"
    }
   },
   "cell_type": "code",
   "source": [
    "def save_data(users, feedback_data, report_data, csv_path=\"data.csv\"):\n",
    "    # Define the order of the columns for consistency\n",
    "    fieldnames = [\n",
    "        \"type\", \"username\", \"password\", \"role\", \n",
    "        \"feedback_id\", \"agent\", \"feedback_text\", \"status\", \n",
    "        \"report_id\", \"date\", \"feedback_applied\", \n",
    "        \"feedback_entry_date\", \"integration_date\"\n",
    "    ]\n",
    "    \n",
    "    # Prepare data for writing to CSV\n",
    "    data_to_write = []\n",
    "    \n",
    "    # Convert users dictionary to list of dictionaries with \"user\" type\n",
    "    for username, user_info in users.items():\n",
    "        data_to_write.append({\n",
    "            \"type\": \"user\",\n",
    "            \"username\": username,\n",
    "            \"password\": user_info[\"password\"],\n",
    "            \"role\": user_info[\"role\"],\n",
    "            \"feedback_id\": \"\",\n",
    "            \"agent\": \"\",\n",
    "            \"feedback_text\": \"\",\n",
    "            \"status\": \"\",\n",
    "            \"report_id\": \"\",\n",
    "            \"date\": \"\",\n",
    "            \"feedback_applied\": \"\",\n",
    "            \"feedback_entry_date\": \"\",\n",
    "            \"integration_date\": \"\"\n",
    "        })\n",
    "    \n",
    "    # Add feedback entries to data list with \"feedback\" type\n",
    "    for feedback in feedback_data:\n",
    "        data_to_write.append({\n",
    "            \"type\": \"feedback\",\n",
    "            \"username\": \"\",\n",
    "            \"password\": \"\",\n",
    "            \"role\": \"\",\n",
    "            \"feedback_id\": feedback[\"feedback_id\"],\n",
    "            \"agent\": feedback[\"agent\"],\n",
    "            \"feedback_text\": feedback[\"feedback_text\"],\n",
    "            \"status\": feedback[\"status\"],\n",
    "            \"report_id\": \"\",\n",
    "            \"date\": \"\",\n",
    "            \"feedback_applied\": \"\",\n",
    "            \"feedback_entry_date\": feedback.get(\"feedback_entry_date\", \"\"),\n",
    "            \"integration_date\": feedback.get(\"integration_date\", \"\")\n",
    "        })\n",
    "    \n",
    "    # Add report entries to data list with \"report\" type\n",
    "    for report in report_data:\n",
    "        data_to_write.append({\n",
    "            \"type\": \"report\",\n",
    "            \"username\": \"\",\n",
    "            \"password\": \"\",\n",
    "            \"role\": \"\",\n",
    "            \"feedback_id\": \"\",\n",
    "            \"agent\": report[\"agent\"],\n",
    "            \"feedback_text\": \"\",\n",
    "            \"status\": \"\",\n",
    "            \"report_id\": report[\"report_id\"],\n",
    "            \"date\": report[\"date\"],\n",
    "            \"feedback_applied\": report[\"feedback_applied\"],\n",
    "            \"feedback_entry_date\": \"\",\n",
    "            \"integration_date\": \"\"\n",
    "        })\n",
    "    \n",
    "    # Write all data to CSV\n",
    "    with open(csv_path, mode=\"w\", newline=\"\") as file:\n",
    "        writer = csv.DictWriter(file, fieldnames=fieldnames)\n",
    "        writer.writeheader()\n",
    "        writer.writerows(data_to_write)\n"
   ],
   "id": "a998dd96f34dea1b",
   "outputs": [],
   "execution_count": 47
  },
  {
   "metadata": {
    "ExecuteTime": {
     "end_time": "2024-11-12T13:02:36.351942Z",
     "start_time": "2024-11-12T13:02:36.346983Z"
    }
   },
   "cell_type": "code",
   "source": [
    "class App(tk.Tk):\n",
    "    def __init__(self):\n",
    "        super().__init__()\n",
    "        self.title(\"Agent and Coach App\")\n",
    "        self.geometry(\"400x300\")\n",
    "\n",
    "        # Load data once and store it in attributes\n",
    "        self.users, self.feedback_data, self.report_data = load_data()\n",
    "        \n",
    "        # Container frame to hold all screens\n",
    "        container = tk.Frame(self)\n",
    "        container.pack(fill=\"both\", expand=True)\n",
    "        \n",
    "        # Dictionary to store frames\n",
    "        self.frames = {}\n",
    "        \n",
    "        # Add each screen frame to the dictionary\n",
    "        for F in (LoginScreen, AgentMainMenu, CoachMainMenu, ProfileSettings, ViewFeedback):\n",
    "            frame = F(container, self)\n",
    "            self.frames[F] = frame\n",
    "            frame.grid(row=0, column=0, sticky=\"nsew\")\n",
    "\n",
    "        # Start with the login screen\n",
    "        self.show_frame(LoginScreen)\n",
    "\n",
    "    def show_frame(self, screen_class):\n",
    "        \"\"\"Bring a frame to the front based on the screen class.\"\"\"\n",
    "        frame = self.frames[screen_class]\n",
    "        frame.tkraise()"
   ],
   "id": "83c9883cbd59061d",
   "outputs": [],
   "execution_count": 48
  },
  {
   "metadata": {
    "ExecuteTime": {
     "end_time": "2024-11-12T13:02:36.361926Z",
     "start_time": "2024-11-12T13:02:36.356462Z"
    }
   },
   "cell_type": "code",
   "source": [
    "class LoginScreen(tk.Frame):\n",
    "    def __init__(self, parent, controller):\n",
    "        super().__init__(parent)\n",
    "        self.controller = controller\n",
    "\n",
    "        tk.Label(self, text=\"Login Screen\").pack(pady=10)\n",
    "        \n",
    "        # Role selection\n",
    "        self.role = tk.StringVar(value=\"Agent\")\n",
    "        tk.Radiobutton(self, text=\"Agent\", variable=self.role, value=\"Agent\").pack()\n",
    "        tk.Radiobutton(self, text=\"Coach\", variable=self.role, value=\"Coach\").pack()\n",
    "        \n",
    "        # Username and Password\n",
    "        tk.Label(self, text=\"Username\").pack()\n",
    "        self.username_entry = tk.Entry(self)\n",
    "        self.username_entry.pack()\n",
    "\n",
    "        tk.Label(self, text=\"Password\").pack()\n",
    "        self.password_entry = tk.Entry(self, show=\"*\")\n",
    "        self.password_entry.pack()\n",
    "        \n",
    "        # Login button\n",
    "        login_button = tk.Button(self, text=\"Login\", command=self.login)\n",
    "        login_button.pack()\n",
    "\n",
    "    def login(self):\n",
    "        username = self.username_entry.get()\n",
    "        password = self.password_entry.get()\n",
    "        role = self.role.get()\n",
    "\n",
    "        # Validate login with the stored users data\n",
    "        if username in self.controller.users:\n",
    "            user = self.controller.users[username]\n",
    "            if user[\"password\"] == password and user[\"role\"] == role:\n",
    "                if role == \"Agent\":\n",
    "                    self.controller.show_frame(AgentMainMenu)\n",
    "                elif role == \"Coach\":\n",
    "                    self.controller.show_frame(CoachMainMenu)\n",
    "            else:\n",
    "                messagebox.showerror(\"Login Error\", \"Incorrect password or role.\")\n",
    "        else:\n",
    "            messagebox.showerror(\"Login Error\", \"Username not found.\")"
   ],
   "id": "8ac3980a77336e09",
   "outputs": [],
   "execution_count": 49
  },
  {
   "metadata": {
    "ExecuteTime": {
     "end_time": "2024-11-12T13:02:36.370808Z",
     "start_time": "2024-11-12T13:02:36.366977Z"
    }
   },
   "cell_type": "code",
   "source": [
    "class AgentMainMenu(tk.Frame):\n",
    "    def __init__(self, parent, controller):\n",
    "        super().__init__(parent)\n",
    "        self.controller = controller\n",
    "\n",
    "        tk.Label(self, text=\"Agent Main Menu\").pack(pady=10)\n",
    "        \n",
    "        # Profile and View Feedback buttons\n",
    "        profile_button = tk.Button(self, text=\"Profile\", command=lambda: controller.show_frame(ProfileSettings))\n",
    "        profile_button.pack()\n",
    "\n",
    "        view_feedback_button = tk.Button(self, text=\"View Feedback\", command=lambda: controller.show_frame(ViewFeedback))\n",
    "        view_feedback_button.pack()\n",
    "\n",
    "        logout_button = tk.Button(self, text=\"Logout\", command=lambda: controller.show_frame(LoginScreen))\n",
    "        logout_button.pack()"
   ],
   "id": "ef655c6bbb169e80",
   "outputs": [],
   "execution_count": 50
  },
  {
   "metadata": {
    "ExecuteTime": {
     "end_time": "2024-11-12T13:02:36.379332Z",
     "start_time": "2024-11-12T13:02:36.374912Z"
    }
   },
   "cell_type": "code",
   "source": [
    "class CoachMainMenu(tk.Frame):\n",
    "    def __init__(self, parent, controller):\n",
    "        super().__init__(parent)\n",
    "        self.controller = controller\n",
    "\n",
    "        tk.Label(self, text=\"Coach Main Menu\").pack(pady=10)\n",
    "        \n",
    "        # Create Account, Input Feedback, Generate Reports buttons\n",
    "        create_account_button = tk.Button(self, text=\"Create Account\", command=self.create_account)\n",
    "        create_account_button.pack()\n",
    "\n",
    "        input_feedback_button = tk.Button(self, text=\"Input Feedback\", command=self.input_feedback)\n",
    "        input_feedback_button.pack()\n",
    "\n",
    "        generate_reports_button = tk.Button(self, text=\"Generate Reports\", command=self.generate_reports)\n",
    "        generate_reports_button.pack()\n",
    "\n",
    "        logout_button = tk.Button(self, text=\"Logout\", command=lambda: controller.show_frame(LoginScreen))\n",
    "        logout_button.pack()\n",
    "\n",
    "    def create_account(self):\n",
    "        # Placeholder for Create Account functionality\n",
    "        messagebox.showinfo(\"Create Account\", \"Create Account screen (not implemented).\")\n",
    "    \n",
    "    def input_feedback(self):\n",
    "        # Placeholder for Input Feedback functionality\n",
    "        messagebox.showinfo(\"Input Feedback\", \"Input Feedback screen (not implemented).\")\n",
    "\n",
    "    def generate_reports(self):\n",
    "        # Placeholder for Generate Reports functionality\n",
    "        messagebox.showinfo(\"Generate Reports\", \"Generate Reports screen (not implemented).\")"
   ],
   "id": "e34a22e12cf3b610",
   "outputs": [],
   "execution_count": 51
  },
  {
   "metadata": {
    "ExecuteTime": {
     "end_time": "2024-11-12T13:02:36.388464Z",
     "start_time": "2024-11-12T13:02:36.384326Z"
    }
   },
   "cell_type": "code",
   "source": [
    "class ProfileSettings(tk.Frame):\n",
    "    def __init__(self, parent, controller):\n",
    "        super().__init__(parent)\n",
    "        self.controller = controller\n",
    "\n",
    "        tk.Label(self, text=\"Profile Settings\").pack(pady=10)\n",
    "\n",
    "        # Password fields\n",
    "        tk.Label(self, text=\"Current Password\").pack()\n",
    "        self.current_password = tk.Entry(self, show=\"*\")\n",
    "        self.current_password.pack()\n",
    "\n",
    "        tk.Label(self, text=\"New Password\").pack()\n",
    "        self.new_password = tk.Entry(self, show=\"*\")\n",
    "        self.new_password.pack()\n",
    "\n",
    "        save_button = tk.Button(self, text=\"Save Changes\", command=self.update_password)\n",
    "        save_button.pack()\n",
    "\n",
    "        back_button = tk.Button(self, text=\"Back to Main Menu\", command=lambda: controller.show_frame(AgentMainMenu))\n",
    "        back_button.pack()\n",
    "\n",
    "    def update_password(self):\n",
    "        # Placeholder for updating the password in the CSV\n",
    "        messagebox.showinfo(\"Profile\", \"Password updated (simulated).\")"
   ],
   "id": "bcf6b12db23098d1",
   "outputs": [],
   "execution_count": 52
  },
  {
   "metadata": {
    "ExecuteTime": {
     "end_time": "2024-11-12T13:02:36.398765Z",
     "start_time": "2024-11-12T13:02:36.394781Z"
    }
   },
   "cell_type": "code",
   "source": [
    "class ViewFeedback(tk.Frame):\n",
    "    def __init__(self, parent, controller):\n",
    "        super().__init__(parent)\n",
    "        self.controller = controller\n",
    "\n",
    "        tk.Label(self, text=\"View Feedback\").pack(pady=10)\n",
    "\n",
    "        # Dropdown for feedback status\n",
    "        self.status_var = tk.StringVar(value=\"Not Integrated\")\n",
    "        status_dropdown = tk.OptionMenu(self, self.status_var, \"Not Integrated\", \"Integrated\")\n",
    "        status_dropdown.pack()\n",
    "\n",
    "        refresh_button = tk.Button(self, text=\"Refresh Feedback\", command=self.refresh_feedback)\n",
    "        refresh_button.pack()\n",
    "\n",
    "        back_button = tk.Button(self, text=\"Back to Main Menu\", command=lambda: controller.show_frame(AgentMainMenu))\n",
    "        back_button.pack()\n",
    "\n",
    "    def refresh_feedback(self):\n",
    "        # Placeholder for refreshing feedback from the stored feedback data\n",
    "        messagebox.showinfo(\"Feedback\", \"Feedback refreshed (simulated).\")"
   ],
   "id": "da3aba808d8c3348",
   "outputs": [],
   "execution_count": 53
  },
  {
   "metadata": {
    "ExecuteTime": {
     "end_time": "2024-11-12T13:02:39.105777Z",
     "start_time": "2024-11-12T13:02:36.403322Z"
    }
   },
   "cell_type": "code",
   "source": [
    "if __name__ == \"__main__\":\n",
    "    app = App()\n",
    "    app.mainloop()"
   ],
   "id": "1c8da03ce7bdb0f8",
   "outputs": [],
   "execution_count": 54
  },
  {
   "metadata": {
    "ExecuteTime": {
     "end_time": "2024-11-12T13:02:39.137623Z",
     "start_time": "2024-11-12T13:02:39.130616Z"
    }
   },
   "cell_type": "code",
   "source": "",
   "id": "4367411ea758a967",
   "outputs": [],
   "execution_count": null
  },
  {
   "metadata": {
    "ExecuteTime": {
     "end_time": "2024-11-12T13:02:39.146878Z",
     "start_time": "2024-11-12T13:02:39.142945Z"
    }
   },
   "cell_type": "code",
   "source": "",
   "id": "af171117090c545a",
   "outputs": [],
   "execution_count": null
  }
 ],
 "metadata": {
  "kernelspec": {
   "display_name": "Python 3",
   "language": "python",
   "name": "python3"
  },
  "language_info": {
   "codemirror_mode": {
    "name": "ipython",
    "version": 2
   },
   "file_extension": ".py",
   "mimetype": "text/x-python",
   "name": "python",
   "nbconvert_exporter": "python",
   "pygments_lexer": "ipython2",
   "version": "2.7.6"
  }
 },
 "nbformat": 4,
 "nbformat_minor": 5
}
